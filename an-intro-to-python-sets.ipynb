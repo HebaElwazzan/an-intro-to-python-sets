{
 "cells": [
  {
   "cell_type": "markdown",
   "id": "0d2a6ea1",
   "metadata": {},
   "source": [
    "# An Introduction to Python Sets\n",
    "\n",
    "One of the most unique built-in methods to store collections in Python is sets. Other kinds of built-in collections in Python include the well known **lists** as well as dictionaries and tuples. In this notebook, we will be focusing on sets, their properties, and how to use them in your programs.\n",
    "\n",
    "## What are sets?\n",
    "\n",
    "In mathematics, a set is simply a collection of elements. The elements could be any number or object. In programming languages, more specifically in Python, sets are most commonly used to store elements while ensuring that no element gets repeated more than once. This means that a set is a list where we are sure that every single element is *unique*.\n",
    "\n",
    "### Sets properties\n",
    "- No duplicates\n",
    "- Unordered\n",
    "- Immutable\n",
    "- Different data types\n",
    "\n"
   ]
  },
  {
   "cell_type": "markdown",
   "id": "d5da6c29",
   "metadata": {},
   "source": [
    "#### No Duplicates\n",
    "This is one of the key differences between sets and other collections. For example, in the following set, \"apples\" has been input twice. However, it shows up only once in the set. More on how to create sets later.\n"
   ]
  },
  {
   "cell_type": "code",
   "execution_count": 20,
   "id": "0952c340",
   "metadata": {},
   "outputs": [
    {
     "name": "stdout",
     "output_type": "stream",
     "text": [
      "{'apples', 'bananas', 'oranges'}\n"
     ]
    }
   ],
   "source": [
    "fruit_basket = {'apples', 'bananas', 'apples','oranges'}\n",
    "print(fruit_basket)"
   ]
  },
  {
   "cell_type": "markdown",
   "id": "b1e7eb36",
   "metadata": {},
   "source": [
    "\n",
    "#### Unordered \n",
    "This means that elements do not have an index that can be used to refer to them, and thus they have no hierarchy: no element comes before the other. So how can we access items in a set? Using a loop:"
   ]
  },
  {
   "cell_type": "code",
   "execution_count": 21,
   "id": "18e2e110",
   "metadata": {},
   "outputs": [
    {
     "name": "stdout",
     "output_type": "stream",
     "text": [
      "apples\n",
      "bananas\n",
      "oranges\n"
     ]
    }
   ],
   "source": [
    "for fruit in fruit_basket:\n",
    "    print(fruit)"
   ]
  },
  {
   "cell_type": "markdown",
   "id": "7626b6ae",
   "metadata": {},
   "source": [
    "#### Immutable\n",
    "You cannot change an element that has been added to a set, you can only add to the set or delete from it. In fact, there is no way to change the element: it is not indexed so you cannot access it individually unless by value.\n",
    "\n",
    "#### Different Data Types\n",
    "A set can contain elements having different data types. For example:"
   ]
  },
  {
   "cell_type": "code",
   "execution_count": 22,
   "id": "0097073b",
   "metadata": {},
   "outputs": [],
   "source": [
    "new_set = {1, 'two', 3.0, True}"
   ]
  },
  {
   "cell_type": "markdown",
   "id": "cd2bb9e0",
   "metadata": {},
   "source": [
    "## Creating a Set\n",
    "\n",
    "To create a new set, you can use curly braces as in the previous examples (not to be confused with dictionaries' curly braces). You can also use the `set()` constructor."
   ]
  },
  {
   "cell_type": "code",
   "execution_count": 23,
   "id": "16f77133",
   "metadata": {},
   "outputs": [],
   "source": [
    "another_set = set(('Hello', 'this', 'is', 'a', 'set'))"
   ]
  },
  {
   "cell_type": "markdown",
   "id": "093eb8ec",
   "metadata": {},
   "source": [
    "However, to create an empty set, you cannot use empty curly braces `{}`, as this will denote an empty dictionary. Instead, use the set constructor."
   ]
  },
  {
   "cell_type": "code",
   "execution_count": 24,
   "id": "71d08ab5",
   "metadata": {},
   "outputs": [],
   "source": [
    "empty_set = set()"
   ]
  },
  {
   "cell_type": "markdown",
   "id": "2e225dfb",
   "metadata": {},
   "source": [
    "## Adding Items to Sets\n",
    "\n",
    "To add new items to a preexisting set, use `.add()` method."
   ]
  },
  {
   "cell_type": "code",
   "execution_count": 25,
   "id": "5c52a4f6",
   "metadata": {},
   "outputs": [
    {
     "name": "stdout",
     "output_type": "stream",
     "text": [
      "{'mangoes', 'apples', 'bananas', 'oranges'}\n"
     ]
    }
   ],
   "source": [
    "fruit_basket.add('mangoes')\n",
    "print(fruit_basket)"
   ]
  },
  {
   "cell_type": "markdown",
   "id": "28230f28",
   "metadata": {},
   "source": [
    "To add an entire set to a new set, use `.update()` method."
   ]
  },
  {
   "cell_type": "code",
   "execution_count": 26,
   "id": "13c066cb",
   "metadata": {},
   "outputs": [
    {
     "name": "stdout",
     "output_type": "stream",
     "text": [
      "{'mangoes', 'apples', 'strawberries', 'oranges', 'passion fruit', 'bananas'}\n"
     ]
    }
   ],
   "source": [
    "new_fruits = {'strawberries', 'passion fruit'}\n",
    "fruit_basket.update(new_fruits)\n",
    "print(fruit_basket)"
   ]
  },
  {
   "cell_type": "markdown",
   "id": "1c0d9391",
   "metadata": {},
   "source": [
    "**Note**: the update method can be used to add any sort of collections to a set, not just other sets."
   ]
  },
  {
   "cell_type": "code",
   "execution_count": 27,
   "id": "6f359265",
   "metadata": {},
   "outputs": [
    {
     "name": "stdout",
     "output_type": "stream",
     "text": [
      "{'mangoes', 'apples', 'strawberries', 'kiwis', 'oranges', 'passion fruit', 'cherries', 'bananas'}\n"
     ]
    }
   ],
   "source": [
    "fruit_list = ['kiwis', 'cherries']\n",
    "fruit_basket.update(fruit_list)\n",
    "print(fruit_basket)"
   ]
  },
  {
   "cell_type": "markdown",
   "id": "3084a8c1",
   "metadata": {},
   "source": [
    "### Remove Items from Sets\n",
    "\n",
    "To remove an item from a set, you have to refer to it by value and use either the method `.remove()` or `.discard()`. The difference between them is that `remove()` will raise an error if you attempt to remove an item that does not exist in the set, whereas `discard()` will not raise an error."
   ]
  },
  {
   "cell_type": "code",
   "execution_count": 28,
   "id": "2b211864",
   "metadata": {},
   "outputs": [
    {
     "name": "stdout",
     "output_type": "stream",
     "text": [
      "{'mangoes', 'apples', 'strawberries', 'kiwis', 'oranges', 'passion fruit', 'cherries'}\n"
     ]
    }
   ],
   "source": [
    "if ('bananas' in fruit_basket):\n",
    "    fruit_basket.remove('bananas')\n",
    "print(fruit_basket)"
   ]
  },
  {
   "cell_type": "markdown",
   "id": "f4be2181",
   "metadata": {},
   "source": [
    "Note the use of `in` keyword to check if an item exists in a set or not.\n",
    "\n",
    "You can also use `.pop()` method, which would typically remove the last item in a list and return it. However, since sets are unordered, you would not know what that last item is."
   ]
  },
  {
   "cell_type": "code",
   "execution_count": 29,
   "id": "ca5a2dbc",
   "metadata": {},
   "outputs": [
    {
     "name": "stdout",
     "output_type": "stream",
     "text": [
      "mangoes\n"
     ]
    }
   ],
   "source": [
    "random_fruit = fruit_basket.pop()\n",
    "print(random_fruit)"
   ]
  },
  {
   "cell_type": "markdown",
   "id": "870969ec",
   "metadata": {},
   "source": [
    "Two additional methods are `clear()` which would empty the set, and `del()` which would delete the set from the memory completely so you cannot use its reference name again unless it is reinitialized."
   ]
  },
  {
   "cell_type": "markdown",
   "id": "3f602ed5",
   "metadata": {},
   "source": [
    "This has been an overview on how to get started with sets in python. For a full list of set methods in python, check out this resource: https://www.w3schools.com/python/python_sets_methods.asp"
   ]
  }
 ],
 "metadata": {
  "kernelspec": {
   "display_name": "Python 3 (ipykernel)",
   "language": "python",
   "name": "python3"
  },
  "language_info": {
   "codemirror_mode": {
    "name": "ipython",
    "version": 3
   },
   "file_extension": ".py",
   "mimetype": "text/x-python",
   "name": "python",
   "nbconvert_exporter": "python",
   "pygments_lexer": "ipython3",
   "version": "3.9.7"
  }
 },
 "nbformat": 4,
 "nbformat_minor": 5
}
